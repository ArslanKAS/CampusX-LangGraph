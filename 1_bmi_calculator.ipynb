{
 "cells": [
  {
   "cell_type": "code",
   "execution_count": 14,
   "id": "d67e7d8a",
   "metadata": {},
   "outputs": [],
   "source": [
    "from langgraph.graph import StateGraph, START, END \n",
    "from typing import TypedDict"
   ]
  },
  {
   "cell_type": "code",
   "execution_count": 33,
   "id": "371daac9",
   "metadata": {},
   "outputs": [],
   "source": [
    "# define state\n",
    "\n",
    "class BMIState(TypedDict):\n",
    "    weight_kg: float  # in kilograms\n",
    "    height_ft: float  # in feet\n",
    "    bmi: float     # Body Mass Index\n",
    "    category: str # BMI Category"
   ]
  },
  {
   "cell_type": "code",
   "execution_count": 34,
   "id": "ae52f363",
   "metadata": {},
   "outputs": [],
   "source": [
    "# define functions\n",
    "\n",
    "def compute_bmi(state: BMIState) -> BMIState:\n",
    "    height = state[\"height_ft\"] * 0.3048  # convert feet to meters\n",
    "    weight = state[\"weight_kg\"]\n",
    "\n",
    "    bmi = weight / (height **2)\n",
    "\n",
    "    state[\"bmi\"] = round(bmi, 2)\n",
    "    \n",
    "    return state\n",
    "\n",
    "def interpret_bmi(state: BMIState) -> BMIState:\n",
    "    bmi = state[\"bmi\"]\n",
    "    \n",
    "    if bmi < 18.5:\n",
    "        category = \"Underweight\"\n",
    "    elif 18.5 <= bmi < 24.9:\n",
    "        category = \"Normal weight\"\n",
    "    elif 25 <= bmi < 29.9:\n",
    "        category = \"Overweight\"\n",
    "    else:\n",
    "        category = \"Obesity\"\n",
    "    \n",
    "    state[\"category\"] = category\n",
    "    return state"
   ]
  },
  {
   "cell_type": "code",
   "execution_count": 35,
   "id": "178f7f53",
   "metadata": {},
   "outputs": [],
   "source": [
    "# define graph\n",
    "\n",
    "graph = StateGraph(BMIState)\n",
    "\n",
    "# add notes\n",
    "graph.add_node(\"Compute_BMI\", compute_bmi)\n",
    "graph.add_node(\"Interpret_BMI\", interpret_bmi)\n",
    "\n",
    "# add edges\n",
    "graph.add_edge(START, \"Compute_BMI\")\n",
    "graph.add_edge(\"Compute_BMI\", \"Interpret_BMI\")\n",
    "graph.add_edge(\"Interpret_BMI\", END)\n",
    "\n",
    "# compile graph\n",
    "workflow = graph.compile()\n",
    "\n",
    "# execute graph\n",
    "initial_state = {\"weight_kg\": 100, \"height_ft\": 5.35}\n",
    "final_state = workflow.invoke(initial_state)"
   ]
  },
  {
   "cell_type": "code",
   "execution_count": 37,
   "id": "893e258e",
   "metadata": {},
   "outputs": [
    {
     "data": {
      "text/plain": [
       "{'weight_kg': 100, 'height_ft': 5.35, 'bmi': 37.61, 'category': 'Obesity'}"
      ]
     },
     "execution_count": 37,
     "metadata": {},
     "output_type": "execute_result"
    }
   ],
   "source": [
    "final_state"
   ]
  },
  {
   "cell_type": "code",
   "execution_count": 36,
   "id": "2db7c086",
   "metadata": {},
   "outputs": [
    {
     "data": {
      "image/png": "[encoded data removed]",
      "text/plain": [
       "<IPython.core.display.Image object>"
      ]
     },
     "execution_count": 36,
     "metadata": {},
     "output_type": "execute_result"
    }
   ],
   "source": [
    "from IPython.display import Image\n",
    "Image(workflow.get_graph().draw_mermaid_png())"
   ]
  },
  {
   "cell_type": "markdown",
   "id": "99792e29",
   "metadata": {},
   "source": []
  }
 ],
 "metadata": {
  "kernelspec": {
   "display_name": "langraph_env",
   "language": "python",
   "name": "python3"
  },
  "language_info": {
   "codemirror_mode": {
    "name": "ipython",
    "version": 3
   },
   "file_extension": ".py",
   "mimetype": "text/x-python",
   "name": "python",
   "nbconvert_exporter": "python",
   "pygments_lexer": "ipython3",
   "version": "3.13.7"
  }
 },
 "nbformat": 4,
 "nbformat_minor": 5
}
