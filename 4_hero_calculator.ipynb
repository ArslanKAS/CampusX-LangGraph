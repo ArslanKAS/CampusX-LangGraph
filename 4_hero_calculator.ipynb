{
 "cells": [
  {
   "cell_type": "code",
   "execution_count": 1,
   "id": "d67e7d8a",
   "metadata": {},
   "outputs": [],
   "source": [
    "from langgraph.graph import StateGraph, START, END \n",
    "from typing import TypedDict"
   ]
  },
  {
   "cell_type": "code",
   "execution_count": 11,
   "id": "371daac9",
   "metadata": {},
   "outputs": [],
   "source": [
    "# define state\n",
    "\n",
    "class HeroState(TypedDict):\n",
    "    strength: float\n",
    "    speed: float\n",
    "    stamina: float\n",
    "\n",
    "    total_battles: int\n",
    "    episodes: int\n",
    "\n",
    "    positive_interactions: int\n",
    "    negative_interactions: int\n",
    "\n",
    "    power_level: float\n",
    "    battles_per_episode: float\n",
    "    respect_earned: float\n",
    "    \n",
    "    summary: str"
   ]
  },
  {
   "cell_type": "code",
   "execution_count": 19,
   "id": "ae52f363",
   "metadata": {},
   "outputs": [],
   "source": [
    "# define functions\n",
    "\n",
    "def power_level(state: HeroState) -> HeroState:\n",
    "\n",
    "    power_level = 0.4 * state[\"strength\"] + 0.35 * state[\"speed\"] + 0.25 * state[\"stamina\"]\n",
    "    \n",
    "    return {\"power_level\": power_level}\n",
    "\n",
    "\n",
    "def battles_per_episode(state: HeroState) -> HeroState:\n",
    "\n",
    "    bpe = state[\"total_battles\"] / state[\"episodes\"]\n",
    "    \n",
    "    return {\"battles_per_episode\": bpe}\n",
    "\n",
    "\n",
    "def respect_earned(state: HeroState) -> HeroState:\n",
    "\n",
    "    respect = state[\"positive_interactions\"] - state[\"negative_interactions\"]\n",
    "    \n",
    "    return {\"respect_earned\": respect}\n",
    "\n",
    "\n",
    "def summary(state: HeroState) -> HeroState:\n",
    "\n",
    "    summary = (\n",
    "        f\"Our hero boasts a formidable power level of {state['power_level']:.2f}. \"\n",
    "        f\"On average, they face {state['battles_per_episode']:.2f} intense battles each episode, \"\n",
    "        f\"earning a well-deserved respect score of {state['respect_earned']} from allies and rivals alike.\"\n",
    "    )\n",
    "    \n",
    "    return {\"summary\": summary}"
   ]
  },
  {
   "cell_type": "code",
   "execution_count": 20,
   "id": "178f7f53",
   "metadata": {},
   "outputs": [],
   "source": [
    "# define graph\n",
    "\n",
    "graph = StateGraph(HeroState)\n",
    "\n",
    "# add notes\n",
    "graph.add_node(\"power_level\", power_level)\n",
    "graph.add_node(\"battles_per_episode\", battles_per_episode)\n",
    "graph.add_node(\"respect_earned\", respect_earned)\n",
    "graph.add_node(\"summary\", summary)\n",
    "\n",
    "# add edges\n",
    "graph.add_edge(START, \"power_level\")\n",
    "graph.add_edge(START, \"battles_per_episode\")\n",
    "graph.add_edge(START, \"respect_earned\")\n",
    "\n",
    "graph.add_edge(\"power_level\", \"summary\")\n",
    "graph.add_edge(\"battles_per_episode\", \"summary\")\n",
    "graph.add_edge(\"respect_earned\", \"summary\")\n",
    "\n",
    "graph.add_edge(\"summary\", END)\n",
    "\n",
    "\n",
    "# compile graph\n",
    "workflow = graph.compile()"
   ]
  },
  {
   "cell_type": "code",
   "execution_count": 21,
   "id": "efb16cf6",
   "metadata": {},
   "outputs": [
    {
     "data": {
      "image/png": "[encoded data removed]",
      "text/plain": [
       "<langgraph.graph.state.CompiledStateGraph object at 0x000001D5FC511480>"
      ]
     },
     "execution_count": 21,
     "metadata": {},
     "output_type": "execute_result"
    }
   ],
   "source": [
    "workflow"
   ]
  },
  {
   "cell_type": "code",
   "execution_count": 22,
   "id": "c4b6b3c8",
   "metadata": {},
   "outputs": [],
   "source": [
    "# execute graph\n",
    "initial_state = {\n",
    "    \"strength\": 85,\n",
    "    \"speed\": 75,\n",
    "    \"stamina\": 90,\n",
    "    \"total_battles\": 150,\n",
    "    \"episodes\": 30,\n",
    "    \"positive_interactions\": 45,\n",
    "    \"negative_interactions\": 10\n",
    "}\n",
    "\n",
    "final_state = workflow.invoke(initial_state)"
   ]
  },
  {
   "cell_type": "code",
   "execution_count": 23,
   "id": "893e258e",
   "metadata": {},
   "outputs": [
    {
     "name": "stdout",
     "output_type": "stream",
     "text": [
      "Our hero boasts a formidable power level of 82.75. On average, they face 5.00 intense battles each episode, earning a well-deserved respect score of 35 from allies and rivals alike.\n"
     ]
    }
   ],
   "source": [
    "print(final_state[\"summary\"])"
   ]
  },
  {
   "cell_type": "markdown",
   "id": "99792e29",
   "metadata": {},
   "source": []
  }
 ],
 "metadata": {
  "kernelspec": {
   "display_name": "langraph_env",
   "language": "python",
   "name": "python3"
  },
  "language_info": {
   "codemirror_mode": {
    "name": "ipython",
    "version": 3
   },
   "file_extension": ".py",
   "mimetype": "text/x-python",
   "name": "python",
   "nbconvert_exporter": "python",
   "pygments_lexer": "ipython3",
   "version": "3.13.7"
  }
 },
 "nbformat": 4,
 "nbformat_minor": 5
}
