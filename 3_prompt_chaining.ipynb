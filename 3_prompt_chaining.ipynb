{
 "cells": [
  {
   "cell_type": "code",
   "execution_count": 42,
   "id": "d67e7d8a",
   "metadata": {},
   "outputs": [],
   "source": [
    "from langgraph.graph import StateGraph, START, END \n",
    "from langchain_openai import ChatOpenAI\n",
    "from typing import TypedDict\n",
    "from dotenv import load_dotenv\n",
    "\n",
    "# Load environment variables\n",
    "load_dotenv()\n",
    "MODEL = \"gpt-4.1-mini\"\n",
    "TEMPERATURE = 0"
   ]
  },
  {
   "cell_type": "code",
   "execution_count": 43,
   "id": "371daac9",
   "metadata": {},
   "outputs": [],
   "source": [
    "# define state\n",
    "\n",
    "class BlogState(TypedDict):\n",
    "    topic: str \n",
    "    outline: str\n",
    "    content: str\n",
    "    score: float"
   ]
  },
  {
   "cell_type": "code",
   "execution_count": 44,
   "id": "ae52f363",
   "metadata": {},
   "outputs": [],
   "source": [
    "# define functions\n",
    "\n",
    "def blog_outline(state: BlogState) -> BlogState:\n",
    "    topic = state['topic']\n",
    "\n",
    "    llm = ChatOpenAI(\n",
    "            model=MODEL, \n",
    "            temperature=TEMPERATURE\n",
    "            )\n",
    "    \n",
    "    prompt = f\"Create a concise outline for a blog post about: {topic}\"\n",
    "    \n",
    "    llm_response = llm.invoke(prompt).content\n",
    "\n",
    "    state['outline'] = llm_response\n",
    "    \n",
    "    return state\n",
    "\n",
    "\n",
    "def blog_content(state: BlogState) -> BlogState:\n",
    "    outline = state['outline']\n",
    "\n",
    "    llm = ChatOpenAI(\n",
    "            model=MODEL, \n",
    "            temperature=TEMPERATURE\n",
    "            )\n",
    "    \n",
    "    prompt = f\"Create a 10-line concise blog based on the outline: {outline}\"\n",
    "    \n",
    "    llm_response = llm.invoke(prompt).content\n",
    "\n",
    "    state['content'] = llm_response\n",
    "    \n",
    "    return state\n",
    "\n",
    "\n",
    "def evaluate_blog(state: BlogState) -> BlogState:\n",
    "    topic = state['topic']\n",
    "    content = state['content']\n",
    "\n",
    "    llm = ChatOpenAI(\n",
    "            model=MODEL, \n",
    "            temperature=TEMPERATURE\n",
    "            )\n",
    "    \n",
    "    prompt = f\"Evaluate the blog score (0-10) based on the title: {topic} and the following content \\n {content}. Return only the score.\"\n",
    "    \n",
    "    llm_response = llm.invoke(prompt).content\n",
    "\n",
    "    state['score'] = llm_response\n",
    "    \n",
    "    return state"
   ]
  },
  {
   "cell_type": "code",
   "execution_count": 45,
   "id": "178f7f53",
   "metadata": {},
   "outputs": [],
   "source": [
    "# define graph\n",
    "\n",
    "graph = StateGraph(BlogState)\n",
    "\n",
    "# add notes\n",
    "graph.add_node(\"blog_outline\", blog_outline)\n",
    "graph.add_node(\"blog_content\", blog_content)\n",
    "graph.add_node(\"evaluate_blog\", evaluate_blog)\n",
    "\n",
    "# add edges\n",
    "graph.add_edge(START, \"blog_outline\")\n",
    "graph.add_edge(\"blog_outline\", \"blog_content\")\n",
    "graph.add_edge(\"blog_content\", \"evaluate_blog\")\n",
    "graph.add_edge(\"evaluate_blog\", END)\n",
    "\n",
    "# compile graph\n",
    "workflow = graph.compile()\n",
    "\n",
    "# execute graph\n",
    "topic = \"Future of AI in Pakistan\"\n",
    "initial_state = {\"topic\": topic}\n",
    "\n",
    "final_state = workflow.invoke(initial_state)"
   ]
  },
  {
   "cell_type": "code",
   "execution_count": 46,
   "id": "3b802852",
   "metadata": {},
   "outputs": [
    {
     "name": "stdout",
     "output_type": "stream",
     "text": [
      "**Outline: Future of AI in Pakistan**\n",
      "\n",
      "1. **Introduction**\n",
      "   - Brief overview of AI globally\n",
      "   - Importance of AI for developing economies like Pakistan\n",
      "\n",
      "2. **Current State of AI in Pakistan**\n",
      "   - Existing AI initiatives and startups\n",
      "   - Government policies and support\n",
      "   - Academic and research contributions\n",
      "\n",
      "3. **Key Sectors Poised for AI Transformation**\n",
      "   - Agriculture: precision farming and crop monitoring\n",
      "   - Healthcare: diagnostics and telemedicine\n",
      "   - Education: personalized learning and automation\n",
      "   - Finance: fintech innovations and fraud detection\n",
      "\n",
      "4. **Challenges to AI Adoption**\n",
      "   - Infrastructure and digital divide\n",
      "   - Skill gaps and education\n",
      "   - Data privacy and ethical concerns\n",
      "   - Regulatory environment\n",
      "\n",
      "5. **Opportunities and Potential Impact**\n",
      "   - Economic growth and job creation\n",
      "   - Enhancing public services and governance\n",
      "   - Positioning Pakistan as a regional AI hub\n",
      "\n",
      "6. **Future Outlook and Recommendations**\n",
      "   - Strengthening AI education and research\n",
      "   - Encouraging public-private partnerships\n",
      "   - Developing robust AI policies and ethical frameworks\n",
      "\n",
      "7. **Conclusion**\n",
      "   - Recap of AI’s transformative potential in Pakistan\n",
      "   - Call to action for stakeholders to collaborate and innovate\n",
      "8\n"
     ]
    }
   ],
   "source": [
    "from pprint import pprint\n",
    "\n",
    "print(final_state[\"outline\"])\n",
    "print(final_state[\"score\"])"
   ]
  },
  {
   "cell_type": "code",
   "execution_count": 47,
   "id": "2db7c086",
   "metadata": {},
   "outputs": [
    {
     "data": {
      "image/png": "[encoded data removed]",
      "text/plain": [
       "<IPython.core.display.Image object>"
      ]
     },
     "execution_count": 47,
     "metadata": {},
     "output_type": "execute_result"
    }
   ],
   "source": [
    "from IPython.display import Image\n",
    "Image(workflow.get_graph().draw_mermaid_png())"
   ]
  },
  {
   "cell_type": "markdown",
   "id": "99792e29",
   "metadata": {},
   "source": []
  }
 ],
 "metadata": {
  "kernelspec": {
   "display_name": "langraph_env",
   "language": "python",
   "name": "python3"
  },
  "language_info": {
   "codemirror_mode": {
    "name": "ipython",
    "version": 3
   },
   "file_extension": ".py",
   "mimetype": "text/x-python",
   "name": "python",
   "nbconvert_exporter": "python",
   "pygments_lexer": "ipython3",
   "version": "3.13.7"
  }
 },
 "nbformat": 4,
 "nbformat_minor": 5
}
