{
 "cells": [
  {
   "cell_type": "code",
   "execution_count": 8,
   "id": "d67e7d8a",
   "metadata": {},
   "outputs": [],
   "source": [
    "from langgraph.graph import StateGraph, START, END \n",
    "from langchain_openai import ChatOpenAI\n",
    "from typing import TypedDict\n",
    "from dotenv import load_dotenv\n",
    "\n",
    "# Load environment variables\n",
    "load_dotenv()\n",
    "MODEL = \"gpt-4.1-mini\"\n",
    "TEMPERATURE = 0"
   ]
  },
  {
   "cell_type": "code",
   "execution_count": 9,
   "id": "371daac9",
   "metadata": {},
   "outputs": [],
   "source": [
    "# define state\n",
    "\n",
    "class BMIState(TypedDict):\n",
    "    question: str # question to ask the llm\n",
    "    answer: str  # llm's answer"
   ]
  },
  {
   "cell_type": "code",
   "execution_count": 10,
   "id": "ae52f363",
   "metadata": {},
   "outputs": [],
   "source": [
    "# define functions\n",
    "\n",
    "def question_llm(state: BMIState) -> BMIState:\n",
    "\n",
    "    question = state['question']\n",
    "\n",
    "    llm = ChatOpenAI(\n",
    "            model=MODEL, \n",
    "            temperature=TEMPERATURE\n",
    "            )\n",
    "    \n",
    "    prompt = f\"Answer the following question: {question}\"\n",
    "    \n",
    "    llm_response = llm.invoke(prompt).content\n",
    "\n",
    "    state['answer'] = llm_response\n",
    "    \n",
    "    return state\n"
   ]
  },
  {
   "cell_type": "code",
   "execution_count": 11,
   "id": "178f7f53",
   "metadata": {},
   "outputs": [],
   "source": [
    "# define graph\n",
    "\n",
    "graph = StateGraph(BMIState)\n",
    "\n",
    "# add notes\n",
    "graph.add_node(\"ask_llm\", question_llm)\n",
    "\n",
    "# add edges\n",
    "graph.add_edge(START, \"ask_llm\")\n",
    "graph.add_edge(\"ask_llm\", END)\n",
    "\n",
    "# compile graph\n",
    "workflow = graph.compile()\n",
    "\n",
    "# execute graph\n",
    "question = \"What is the capital of Pakistan?\"\n",
    "initial_state = {\"question\": question}\n",
    "final_state = workflow.invoke(initial_state)"
   ]
  },
  {
   "cell_type": "code",
   "execution_count": 12,
   "id": "893e258e",
   "metadata": {},
   "outputs": [
    {
     "data": {
      "text/plain": [
       "{'question': 'What is the capital of Pakistan?',\n",
       " 'answer': 'The capital of Pakistan is Islamabad.'}"
      ]
     },
     "execution_count": 12,
     "metadata": {},
     "output_type": "execute_result"
    }
   ],
   "source": [
    "final_state"
   ]
  },
  {
   "cell_type": "code",
   "execution_count": 7,
   "id": "2db7c086",
   "metadata": {},
   "outputs": [
    {
     "data": {
      "image/png": "[encoded data removed]",
      "text/plain": [
       "<IPython.core.display.Image object>"
      ]
     },
     "execution_count": 7,
     "metadata": {},
     "output_type": "execute_result"
    }
   ],
   "source": [
    "from IPython.display import Image\n",
    "Image(workflow.get_graph().draw_mermaid_png())"
   ]
  },
  {
   "cell_type": "markdown",
   "id": "99792e29",
   "metadata": {},
   "source": []
  }
 ],
 "metadata": {
  "kernelspec": {
   "display_name": "langraph_env",
   "language": "python",
   "name": "python3"
  },
  "language_info": {
   "codemirror_mode": {
    "name": "ipython",
    "version": 3
   },
   "file_extension": ".py",
   "mimetype": "text/x-python",
   "name": "python",
   "nbconvert_exporter": "python",
   "pygments_lexer": "ipython3",
   "version": "3.13.7"
  }
 },
 "nbformat": 4,
 "nbformat_minor": 5
}
